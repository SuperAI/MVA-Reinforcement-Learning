{
  "nbformat": 4,
  "nbformat_minor": 0,
  "metadata": {
    "colab": {
      "name": "Copy_of_MVARL19_part2_last.ipynb",
      "provenance": [],
      "collapsed_sections": [],
      "toc_visible": true
    },
    "kernelspec": {
      "name": "python3",
      "display_name": "Python 3"
    },
    "accelerator": "GPU"
  },
  "cells": [
    {
      "cell_type": "markdown",
      "metadata": {
        "id": "XJ_s4_nhhiyo",
        "colab_type": "text"
      },
      "source": [
        "# Reinforcement Learning with Function Approximation"
      ]
    },
    {
      "cell_type": "code",
      "metadata": {
        "id": "WTOWkpoCiLmL",
        "colab_type": "code",
        "colab": {}
      },
      "source": [
        "!pip install torch==1.2.0 torchvision pyvirtualdisplay matplotlib seaborn pandas numpy pathlib gym"
      ],
      "execution_count": 0,
      "outputs": []
    },
    {
      "cell_type": "code",
      "metadata": {
        "id": "Wwv97UtplDwN",
        "colab_type": "code",
        "colab": {}
      },
      "source": [
        "!pip install pyvirtualdisplay"
      ],
      "execution_count": 0,
      "outputs": []
    },
    {
      "cell_type": "code",
      "metadata": {
        "id": "pH0tYfywAaZ0",
        "colab_type": "code",
        "colab": {}
      },
      "source": [
        "!apt-get install x11-utils"
      ],
      "execution_count": 0,
      "outputs": []
    },
    {
      "cell_type": "code",
      "metadata": {
        "id": "-RRsWoO1naTp",
        "colab_type": "code",
        "colab": {}
      },
      "source": [
        "!sudo apt-get install xvfb\n",
        "!git clone https://github.com/rlgammazero/mvarl_hands_on.git > /dev/null 2>&1\n",
        "!cd mvarl_hands_on && git pull origin master > /dev/null 2>&1"
      ],
      "execution_count": 0,
      "outputs": []
    },
    {
      "cell_type": "code",
      "metadata": {
        "id": "gCsyvh4NhjUc",
        "colab_type": "code",
        "colab": {}
      },
      "source": [
        "\n",
        "import torch\n",
        "import torch.nn as nn\n",
        "import torch.nn.functional as F \n",
        "from torch import optim\n",
        "\n",
        "import pandas as pd\n",
        "import itertools\n",
        "import seaborn as sns\n",
        "\n",
        "\n",
        "import numpy as np\n",
        "import math\n",
        "\n",
        "from pathlib import Path\n",
        "import base64\n",
        "\n",
        "import gym\n",
        "from gym.wrappers import Monitor\n",
        "from pprint import pprint\n",
        "from pyvirtualdisplay import Display\n",
        "from IPython import display as ipythondisplay\n",
        "from IPython.display import clear_output\n",
        "\n",
        "# The following code is will be used to visualize the environments.\n",
        "\n",
        "def show_video(directory):\n",
        "    html = []\n",
        "    for mp4 in Path(directory).glob(\"*.mp4\"):\n",
        "        video_b64 = base64.b64encode(mp4.read_bytes())\n",
        "        html.append('''<video alt=\"{}\" autoplay \n",
        "                      loop controls style=\"height: 400px;\">\n",
        "                      <source src=\"data:video/mp4;base64,{}\" type=\"video/mp4\" />\n",
        "                 </video>'''.format(mp4, video_b64.decode('ascii')))\n",
        "    ipythondisplay.display(ipythondisplay.HTML(data=\"<br>\".join(html)))\n",
        "    \n",
        "display = Display(visible=0, size=(1400, 900))\n",
        "display.start();\n",
        "\n",
        "def make_seed(seed):\n",
        "    np.random.seed(seed=seed)\n",
        "    torch.manual_seed(seed=seed)"
      ],
      "execution_count": 0,
      "outputs": []
    },
    {
      "cell_type": "markdown",
      "metadata": {
        "id": "ThnSNaSMhnXa",
        "colab_type": "text"
      },
      "source": [
        "PyTorch is a Python package that provides two high-level features:\n",
        "- Tensor computation (like NumPy) with strong GPU acceleration\n",
        "- Deep neural networks built on a tape-based autograd system\n",
        "\n",
        "At a granular level, PyTorch is a library that consists of the following components:\n",
        "\n",
        "| Component | Description |\n",
        "| ---- | --- |\n",
        "| [**torch**](https://pytorch.org/docs/stable/torch.html) | a Tensor library like NumPy, with strong GPU support |\n",
        "| [**torch.autograd**](https://pytorch.org/docs/stable/autograd.html) | a tape-based automatic differentiation library that supports all differentiable Tensor operations in torch |\n",
        "| [**torch.jit**](https://pytorch.org/docs/stable/jit.html) | a compilation stack (TorchScript) to create serializable and optimizable models from PyTorch code  |\n",
        "| [**torch.nn**](https://pytorch.org/docs/stable/nn.html) | a neural networks library deeply integrated with autograd designed for maximum flexibility |\n",
        "| [**torch.multiprocessing**](https://pytorch.org/docs/stable/multiprocessing.html) | Python multiprocessing, but with magical memory sharing of torch Tensors across processes. Useful for data loading and Hogwild training |\n",
        "| [**torch.utils**](https://pytorch.org/docs/stable/data.html) | DataLoader and other utility functions for convenience |\n",
        "\n",
        "\n",
        "**Tutorials on PyTorch:** https://pytorch.org/tutorials/\n"
      ]
    },
    {
      "cell_type": "markdown",
      "metadata": {
        "id": "WlZQl9TjhuWY",
        "colab_type": "text"
      },
      "source": [
        "## OpenAI gym\n",
        "We will consider environments provided by OpenAI gym\n",
        "This library provides a large number of environments to test RL algorithm.\n",
        "\n",
        "We will focus on the **CartPole-v1** environment in this lab but we encourage you to also test your code on:\n",
        "* **Acrobot-v1**\n",
        "* **MountainCar-v0**\n",
        "\n",
        "| Env Info          \t| CartPole-v1 \t| Acrobot-v1                \t| MountainCar-v0 \t|\n",
        "|-------------------\t|-------------\t|---------------------------\t|----------------\t|\n",
        "| **Observation Space** \t| Box(4)      \t| Box(6)                    \t| Box(2)         \t|\n",
        "| **Action Space**      \t| Discrete(2) \t| Discrete(3)               \t| Discrete(3)    \t|\n",
        "| **Rewards**           \t| 1 per step  \t| -1 if not terminal else 0 \t| -1 per step    \t|\n",
        "\n",
        "A gym environment is loaded with the command `env = gym.make(env_id)`. Once the environment is created, you need to reset it with `observation = env.reset()` and then you can interact with it using the method step: `observation, reward, done, info = env.step(action)`."
      ]
    },
    {
      "cell_type": "code",
      "metadata": {
        "id": "3wfHvW9Hh4H3",
        "colab_type": "code",
        "colab": {}
      },
      "source": [
        "# We load CartPole-v1\n",
        "env = gym.make('CartPole-v1')\n",
        "# We wrap it in order to save our experiment on a file.\n",
        "env = Monitor(env, \"./gym-results\", force=True)"
      ],
      "execution_count": 0,
      "outputs": []
    },
    {
      "cell_type": "code",
      "metadata": {
        "id": "2-fFj5sDiA0C",
        "colab_type": "code",
        "outputId": "a881e6c0-2bcd-44bd-f14a-bf106c399af5",
        "colab": {
          "base_uri": "https://localhost:8080/",
          "height": 421
        }
      },
      "source": [
        "done = False\n",
        "obs = env.reset()\n",
        "while not done:\n",
        "    action = env.action_space.sample()\n",
        "    obs, reward, done, info = env.step(action)\n",
        "env.close()\n",
        "show_video(\"./gym-results\")"
      ],
      "execution_count": 0,
      "outputs": [
        {
          "output_type": "display_data",
          "data": {
            "text/html": [
              "<video alt=\"gym-results/openaigym.video.0.124.video000000.mp4\" autoplay \n",
              "                      loop controls style=\"height: 400px;\">\n",
              "                      <source src=\"data:video/mp4;base64,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\" type=\"video/mp4\" />\n",
              "                 </video>"
            ],
            "text/plain": [
              "<IPython.core.display.HTML object>"
            ]
          },
          "metadata": {
            "tags": []
          }
        }
      ]
    },
    {
      "cell_type": "markdown",
      "metadata": {
        "id": "sd2xLlapilZE",
        "colab_type": "text"
      },
      "source": [
        "## REINFORCE\n",
        "\n",
        "**Q1: Implement the REINFORCE algorithm**\n",
        "\n",
        "The code is splitted in two parts:\n",
        "* The Model class defines the architecture of our neural network which takes as input the current state and returns the policy,\n",
        "* The Agent class is responsible for the training and evaluation procedure. You will need to code the method `optimize_model`."
      ]
    },
    {
      "cell_type": "code",
      "metadata": {
        "id": "iwsQ8NSPiCz7",
        "colab_type": "code",
        "colab": {}
      },
      "source": [
        "class Model(nn.Module):\n",
        "    def __init__(self, dim_observation, n_actions):\n",
        "        super(Model, self).__init__()\n",
        "        \n",
        "        self.n_actions = n_actions\n",
        "        self.dim_observation = dim_observation\n",
        "        \n",
        "        self.net = nn.Sequential(\n",
        "            nn.Linear(in_features=self.dim_observation, out_features=16),\n",
        "            nn.ReLU(),\n",
        "            nn.Linear(in_features=16, out_features=8),\n",
        "            nn.ReLU(),\n",
        "            nn.Linear(in_features=8, out_features=self.n_actions),\n",
        "            nn.Softmax(dim=0)\n",
        "        )\n",
        "        \n",
        "    def forward(self, state):\n",
        "        return self.net(state)\n",
        "    \n",
        "    def select_action(self, state):\n",
        "        action = torch.multinomial(self.forward(state), 1)\n",
        "        return action"
      ],
      "execution_count": 0,
      "outputs": []
    },
    {
      "cell_type": "markdown",
      "metadata": {
        "id": "xrgtQMYbiwX7",
        "colab_type": "text"
      },
      "source": [
        "Create the model based on the properties of the MDP you want to solve"
      ]
    },
    {
      "cell_type": "code",
      "metadata": {
        "id": "S6ieL_KJirq9",
        "colab_type": "code",
        "outputId": "bb791df7-4f6d-4ac4-a805-ffc69310e1ce",
        "colab": {
          "base_uri": "https://localhost:8080/",
          "height": 223
        }
      },
      "source": [
        "env_id = 'CartPole-v1'\n",
        "env = gym.make(env_id)\n",
        "model = Model(env.observation_space.shape[0], env.action_space.n)\n",
        "print(f'The model we created correspond to:\\n{model}')"
      ],
      "execution_count": 0,
      "outputs": [
        {
          "output_type": "stream",
          "text": [
            "The model we created correspond to:\n",
            "Model(\n",
            "  (net): Sequential(\n",
            "    (0): Linear(in_features=4, out_features=16, bias=True)\n",
            "    (1): ReLU()\n",
            "    (2): Linear(in_features=16, out_features=8, bias=True)\n",
            "    (3): ReLU()\n",
            "    (4): Linear(in_features=8, out_features=2, bias=True)\n",
            "    (5): Softmax(dim=0)\n",
            "  )\n",
            ")\n"
          ],
          "name": "stdout"
        }
      ]
    },
    {
      "cell_type": "markdown",
      "metadata": {
        "id": "WwrVF9kti1e-",
        "colab_type": "text"
      },
      "source": [
        "We provide a base agent that you will need to extend in the next cell with your implementation of `optimize_model`."
      ]
    },
    {
      "cell_type": "code",
      "metadata": {
        "id": "DWvKO66ii1zh",
        "colab_type": "code",
        "colab": {}
      },
      "source": [
        "class BaseAgent:\n",
        "    \n",
        "    def __init__(self, config):\n",
        "        self.config = config\n",
        "        self.env = gym.make(config['env_id'])\n",
        "        make_seed(config['seed'])\n",
        "        self.env.seed(config['seed'])\n",
        "        self.model = Model(self.env.observation_space.shape[0], self.env.action_space.n)\n",
        "        self.gamma = config['gamma']\n",
        "        \n",
        "        # the optimizer used by PyTorch (Stochastic Gradient, Adagrad, Adam, etc.)\n",
        "        self.optimizer = torch.optim.Adam(self.model.net.parameters(), lr=config['learning_rate'])\n",
        "        self.monitor_env = Monitor(env, \"./gym-results\", force=True, video_callable=lambda episode: True)\n",
        "    \n",
        "    # Method to implement\n",
        "    def _compute_returns(self, rewards):\n",
        "      cum_rew = np.zeros((len(rewards),1))\n",
        "      for k in range(len(rewards)):\n",
        "        cum_rew[k] = sum(rewards[i]*self.gamma**(i-k) for i in range(k,len(rewards)))\n",
        "      return cum_rew\n",
        "    \n",
        "    # Method to implement\n",
        "    def optimize_model(self, n_trajectories):\n",
        "      loss = 0\n",
        "      reward_trajectories = []\n",
        "      for i in range(n_trajectories):\n",
        "        rewards = []\n",
        "        done = False\n",
        "        obs = torch.tensor(self.env.reset(), dtype=torch.float)\n",
        "        actions = []\n",
        "        states = []\n",
        "        while not done:\n",
        "            action = self.model.select_action(obs).item()\n",
        "            actions.append(action)\n",
        "            states.append(obs)\n",
        "            obs, reward, done, info = self.env.step(action)\n",
        "            obs = torch.tensor(obs, dtype=torch.float)\n",
        "            rewards.append(reward)\n",
        "        cumulative_rewards = self._compute_returns(np.array(rewards))\n",
        "        reward_trajectories.append(cumulative_rewards[0])\n",
        "\n",
        "        s = 0\n",
        "        for t in range(len(states)):\n",
        "          s += torch.log(self.model.forward(states[t])[actions[t]])*cumulative_rewards[t]\n",
        "        loss += s\n",
        "      loss /= n_trajectories\n",
        "      loss = -loss\n",
        "\n",
        "      reward_trajectories = np.array(rewards_trajectories)\n",
        "      return reward_trajectories\n",
        " \n",
        "    def train(self, n_trajectories, n_update):\n",
        "        \"\"\"Training method\n",
        "\n",
        "        Parameters\n",
        "        ----------\n",
        "        n_trajectories : int\n",
        "            The number of trajectories used to approximate the expected gradient\n",
        "        n_update : int\n",
        "            The number of gradient updates\n",
        "            \n",
        "        \"\"\"\n",
        "        \n",
        "        rewards = []\n",
        "        for episode in range(n_update):\n",
        "            rewards.append(self.optimize_model(n_trajectories))\n",
        "            print(f'Episode {episode + 1}/{n_update}: rewards {round(rewards[-1].mean(), 2)} +/- {round(rewards[-1].std(), 2)}')\n",
        "        \n",
        "        # Plotting\n",
        "        r = pd.DataFrame((itertools.chain(*(itertools.product([i], rewards[i]) for i in range(len(rewards))))), columns=['Epoch', 'Reward'])\n",
        "        sns.lineplot(x=\"Epoch\", y=\"Reward\", data=r, ci='sd');\n",
        "        \n",
        "    def evaluate(self, render=False):\n",
        "        \"\"\"Evaluate the agent on a single trajectory            \n",
        "        \"\"\"\n",
        "        with torch.no_grad():\n",
        "            observation = self.monitor_env.reset()\n",
        "            observation = torch.tensor(observation, dtype=torch.float)\n",
        "            reward_episode = 0\n",
        "            done = False\n",
        "                \n",
        "            while not done:\n",
        "                action = self.model.select_action(observation)\n",
        "                observation, reward, done, info = self.monitor_env.step(int(action))\n",
        "                observation = torch.tensor(observation, dtype=torch.float)\n",
        "                reward_episode += reward\n",
        "            \n",
        "            self.monitor_env.close()\n",
        "            if render:\n",
        "                show_video(\"./gym-results\")\n",
        "                print(f'Reward: {reward_episode}')\n",
        "            print(f'Reward: {reward_episode}')"
      ],
      "execution_count": 0,
      "outputs": []
    },
    {
      "cell_type": "markdown",
      "metadata": {
        "id": "Y6mhw_A3i_8R",
        "colab_type": "text"
      },
      "source": [
        "Finally you can implement your agent"
      ]
    },
    {
      "cell_type": "code",
      "metadata": {
        "id": "lbjP-7WHi9oc",
        "colab_type": "code",
        "colab": {}
      },
      "source": [
        "class REINFORCE(BaseAgent):\n",
        "    \n",
        "    def _compute_returns(self, rewards):\n",
        "      '''cum_rew = np.zeros((len(rewards),1))\n",
        "      for k in range(len(rewards)):\n",
        "        cum_rew[k] = sum(rewards[i]*self.gamma**(i-k) for i in range(k,len(rewards)))\n",
        "      return cum_rew'''\n",
        "      n = len(rewards)\n",
        "      for i in range(n):\n",
        "          for j in range(i,n):\n",
        "              rewards[i] += rewards[j] * gamma**(j-i)\n",
        "      return rewards\n",
        "\n",
        "    \n",
        "        \n",
        "    def optimize_model(self, n_trajectories):       \n",
        "      loss = 0\n",
        "      rewards_trajectories = []\n",
        "      for i in range(n_trajectories):\n",
        " \n",
        "        cumulative_rewards = self._compute_returns(np.array(rewards))\n",
        "        rewards_trajectories.append(cumulative_rewards[0])\n",
        "        \n",
        "        s = 0       rewards = []\n",
        "        done = False\n",
        "        obs = torch.tensor(self.env.reset(), dtype=torch.float)\n",
        "        actions = []\n",
        "        states = []\n",
        "        while not done:\n",
        "            action = self.model.select_action(obs).item()\n",
        "            actions.append(action)\n",
        "            states.append(obs)\n",
        "            obs, reward, done, info = self.env.step(action)\n",
        "            obs = torch.tensor(obs, dtype=torch.float)\n",
        "            rewards.append(reward)\n",
        "        for t in range(len(states)):\n",
        "          s += torch.log(self.model.forward(states[t]))[actions[t]]*cumulative_rewards[t]\n",
        "        loss += s\n",
        "      loss /= n_trajectories\n",
        "      loss = -loss\n",
        "\n",
        "      reward_trajectories = np.array(rewards_trajectories)\n",
        "        # Discard previous gradients\n",
        "      self.optimizer.zero_grad()\n",
        "        # Compute the gradient \n",
        "      loss.backward()\n",
        "        # Do the gradient descent step\n",
        "      self.optimizer.step()\n",
        "      return reward_trajectories\n",
        "    "
      ],
      "execution_count": 0,
      "outputs": []
    },
    {
      "cell_type": "code",
      "metadata": {
        "id": "vZAo0K8VjCYj",
        "colab_type": "code",
        "outputId": "87ab1b63-6a29-4477-c257-a73c80672ce9",
        "colab": {
          "base_uri": "https://localhost:8080/",
          "height": 55
        }
      },
      "source": [
        "env_id = 'CartPole-v1'\n",
        "learning_rate = 0.01\n",
        "gamma = 1 \n",
        "seed = 1235\n",
        "\n",
        "config = {\n",
        "    'env_id': env_id,\n",
        "    'learning_rate': learning_rate,\n",
        "    'seed': seed,\n",
        "    'gamma': gamma\n",
        "}\n",
        "\n",
        "print(\"Current config is:\")\n",
        "pprint(config)\n"
      ],
      "execution_count": 0,
      "outputs": [
        {
          "output_type": "stream",
          "text": [
            "Current config is:\n",
            "{'env_id': 'CartPole-v1', 'gamma': 1, 'learning_rate': 0.01, 'seed': 1235}\n"
          ],
          "name": "stdout"
        }
      ]
    },
    {
      "cell_type": "code",
      "metadata": {
        "id": "D4Ag7E3qjJas",
        "colab_type": "code",
        "outputId": "b3f32ca8-968c-4710-f402-2183f9fbe765",
        "colab": {
          "base_uri": "https://localhost:8080/",
          "height": 1000
        }
      },
      "source": [
        "agent = REINFORCE(config)\n",
        "agent.train(n_trajectories=50, n_update=50)"
      ],
      "execution_count": 0,
      "outputs": [
        {
          "output_type": "stream",
          "text": [
            "Episode 1/50: rewards 17.9 +/- 6.2\n",
            "Episode 2/50: rewards 24.4 +/- 10.22\n",
            "Episode 3/50: rewards 22.78 +/- 10.9\n",
            "Episode 4/50: rewards 24.44 +/- 12.22\n",
            "Episode 5/50: rewards 24.16 +/- 15.84\n",
            "Episode 6/50: rewards 25.36 +/- 13.01\n",
            "Episode 7/50: rewards 25.62 +/- 14.78\n",
            "Episode 8/50: rewards 25.92 +/- 14.38\n",
            "Episode 9/50: rewards 27.6 +/- 15.79\n",
            "Episode 10/50: rewards 26.88 +/- 14.47\n",
            "Episode 11/50: rewards 29.66 +/- 14.07\n",
            "Episode 12/50: rewards 30.34 +/- 15.0\n",
            "Episode 13/50: rewards 27.2 +/- 12.48\n",
            "Episode 14/50: rewards 28.4 +/- 15.38\n",
            "Episode 15/50: rewards 29.06 +/- 14.48\n",
            "Episode 16/50: rewards 39.2 +/- 25.07\n",
            "Episode 17/50: rewards 37.14 +/- 21.44\n",
            "Episode 18/50: rewards 34.34 +/- 15.92\n",
            "Episode 19/50: rewards 34.32 +/- 17.95\n",
            "Episode 20/50: rewards 41.9 +/- 22.76\n",
            "Episode 21/50: rewards 35.26 +/- 18.29\n",
            "Episode 22/50: rewards 43.72 +/- 15.98\n",
            "Episode 23/50: rewards 41.36 +/- 28.02\n",
            "Episode 24/50: rewards 46.16 +/- 23.87\n",
            "Episode 25/50: rewards 42.16 +/- 21.9\n",
            "Episode 26/50: rewards 54.6 +/- 29.76\n",
            "Episode 27/50: rewards 50.76 +/- 27.66\n",
            "Episode 28/50: rewards 49.4 +/- 23.22\n",
            "Episode 29/50: rewards 58.6 +/- 24.22\n",
            "Episode 30/50: rewards 65.62 +/- 34.98\n",
            "Episode 31/50: rewards 79.02 +/- 34.01\n",
            "Episode 32/50: rewards 68.08 +/- 32.92\n",
            "Episode 33/50: rewards 69.88 +/- 34.83\n",
            "Episode 34/50: rewards 91.7 +/- 43.67\n",
            "Episode 35/50: rewards 94.38 +/- 46.52\n",
            "Episode 36/50: rewards 106.1 +/- 47.27\n",
            "Episode 37/50: rewards 115.12 +/- 39.99\n",
            "Episode 38/50: rewards 127.38 +/- 51.07\n",
            "Episode 39/50: rewards 126.2 +/- 32.26\n",
            "Episode 40/50: rewards 138.7 +/- 38.98\n",
            "Episode 41/50: rewards 146.8 +/- 47.03\n",
            "Episode 42/50: rewards 148.22 +/- 46.59\n",
            "Episode 43/50: rewards 163.24 +/- 56.16\n",
            "Episode 44/50: rewards 180.1 +/- 78.91\n",
            "Episode 45/50: rewards 202.52 +/- 86.38\n",
            "Episode 46/50: rewards 241.8 +/- 94.48\n",
            "Episode 47/50: rewards 287.66 +/- 119.01\n",
            "Episode 48/50: rewards 270.14 +/- 101.83\n",
            "Episode 49/50: rewards 280.0 +/- 107.92\n",
            "Episode 50/50: rewards 278.32 +/- 95.39\n"
          ],
          "name": "stdout"
        },
        {
          "output_type": "display_data",
          "data": {
            "image/png": "[encoded data removed]",
            "text/plain": [
              "<Figure size 432x288 with 1 Axes>"
            ]
          },
          "metadata": {
            "tags": []
          }
        }
      ]
    },
    {
      "cell_type": "markdown",
      "metadata": {
        "id": "q3_dvBl8jUc3",
        "colab_type": "text"
      },
      "source": [
        "Evaluate the agent over multiple episodes"
      ]
    },
    {
      "cell_type": "code",
      "metadata": {
        "id": "aPyqbIiCjO_-",
        "colab_type": "code",
        "outputId": "c0813d6d-373e-40aa-aa8d-64890359f056",
        "colab": {
          "base_uri": "https://localhost:8080/",
          "height": 36
        }
      },
      "source": [
        "agent.evaluate()"
      ],
      "execution_count": 0,
      "outputs": [
        {
          "output_type": "execute_result",
          "data": {
            "text/plain": [
              "500.0"
            ]
          },
          "metadata": {
            "tags": []
          },
          "execution_count": 39
        }
      ]
    },
    {
      "cell_type": "markdown",
      "metadata": {
        "id": "LHM2_CRFkNoA",
        "colab_type": "text"
      },
      "source": [
        "## Policy Evaluation as Supervised Learning\n",
        "\n",
        "**Q2: Implement batched gradient algorithm**\n",
        "\n",
        "Define network for Q-function (ValueNetwork) and policy (ActorNetwork)\n"
      ]
    },
    {
      "cell_type": "code",
      "metadata": {
        "id": "W9sxcz_eKF1M",
        "colab_type": "code",
        "colab": {}
      },
      "source": [
        "class ValueNetwork(nn.Module):\n",
        "\n",
        "    def __init__(self, input_size, hidden_size, output_size):\n",
        "        super(ValueNetwork, self).__init__()\n",
        "        self.fc1 = nn.Linear(input_size, hidden_size)\n",
        "        self.fc2 = nn.Linear(hidden_size, hidden_size)\n",
        "        self.fc3 = nn.Linear(hidden_size, output_size)\n",
        "\n",
        "    def forward(self, x):\n",
        "        out = F.relu(self.fc1(x))\n",
        "        out = F.relu(self.fc2(out))\n",
        "        out = self.fc3(out)\n",
        "        return out\n",
        "    \n",
        "    def predict(self, x):\n",
        "        return self(x).detach().numpy()[0]"
      ],
      "execution_count": 0,
      "outputs": []
    },
    {
      "cell_type": "code",
      "metadata": {
        "id": "1GKxKzs5khxM",
        "colab_type": "code",
        "colab": {}
      },
      "source": [
        "class ActorNetwork(nn.Module):\n",
        "\n",
        "    def __init__(self, input_size, hidden_size, action_size):\n",
        "        super(ActorNetwork, self).__init__()\n",
        "        self.fc1 = nn.Linear(input_size, hidden_size)\n",
        "        self.fc2 = nn.Linear(hidden_size, hidden_size)\n",
        "        self.fc3 = nn.Linear(hidden_size, action_size)\n",
        "\n",
        "    def forward(self, x):\n",
        "        out = F.relu(self.fc1(x))\n",
        "        out = F.relu(self.fc2(out))\n",
        "        out = F.softmax(self.fc3(out), dim=-1)\n",
        "        return out\n",
        "    \n",
        "    def select_action(self, x):\n",
        "        return torch.multinomial(self(x), 1).detach().numpy()"
      ],
      "execution_count": 0,
      "outputs": []
    },
    {
      "cell_type": "markdown",
      "metadata": {
        "id": "aBpNVkaAKLQz",
        "colab_type": "text"
      },
      "source": [
        "Implement your (batched) gradient algorithm\n",
        "\n"
      ]
    },
    {
      "cell_type": "code",
      "metadata": {
        "id": "QQ4Wu5B5KIIO",
        "colab_type": "code",
        "colab": {}
      },
      "source": [
        "class EvalAgent:\n",
        "\n",
        "    def __init__(self, config, policy):\n",
        "        self.config = config\n",
        "        self.env = gym.make(config['env_id'])\n",
        "        make_seed(config['seed'])\n",
        "        self.env.seed(config['seed'])\n",
        "        self.monitor_env = Monitor(self.env, \"./gym-results\", force=True, video_callable=lambda episode: True)\n",
        "        self.gamma = config['gamma']\n",
        "        self.policy = policy\n",
        "\n",
        "        # Our network\n",
        "        self.value_network = ValueNetwork(self.env.observation_space.shape[0], 16, 1)\n",
        "\n",
        "        # optimizers\n",
        "        self.value_network_optimizer = optim.RMSprop(self.value_network.parameters(), \n",
        "                                                   lr=config['value_network']['learning_rate'])\n",
        "        \n",
        "    \n",
        "    def _returns_advantages(self, rewards, dones, next_value):\n",
        "      \"\"\"Returns the cumulative discounted rewards at each time step\n",
        "\n",
        "        Parameters\n",
        "        ----------\n",
        "        rewards : array\n",
        "            An array of shape (batch_size,) containing the rewards given by the env\n",
        "        dones : array\n",
        "            An array of shape (batch_size,) containing the done bool indicator given by the env\n",
        "        next_value : float\n",
        "            The value of the next state given by the value network\n",
        "\n",
        "        Returns\n",
        "        -------\n",
        "        returns : array\n",
        "            The cumulative discounted rewards\n",
        "        \"\"\"\n",
        "      batch_size = len(rewards)\n",
        "      cum_reward = []\n",
        "  \n",
        "      for k in range(batch_size):\n",
        "\n",
        "        reward_t = []\n",
        "        done = dones[k]\n",
        "        obs = torch.tensor(self.env.reset(), dtype=torch.float)\n",
        "        actions = []\n",
        "        states = []\n",
        "        while not done:\n",
        "            obs = torch.tensor(obs, dtype=torch.float)\n",
        "            action = self.policy.select_action(obs).item()\n",
        "            actions.append(action)\n",
        "            states.append(obs)\n",
        "            obs, reward, done, info = self.env.step(action)\n",
        "            obs = torch.tensor(obs, dtype=torch.float)\n",
        "            reward_t.append(reward)\n",
        "\n",
        "        #cum_rew = np.zeros((len(reward_t),1))\n",
        "        if k != batch_size - 1:\n",
        "          for j in range(len(reward_t)):\n",
        "            cum_reward.append(sum(reward_t[i]*self.gamma**(i-j) for i in range(j,len(reward_t))))\n",
        "        else:\n",
        "          reward_t.append(next_value) \n",
        "          for j in range(len(reward_t)):\n",
        "            cum_reward.append(sum(reward_t[i]*self.gamma**(i-j) for i in range(j,len(reward_t))))\n",
        "\n",
        "        #cum_reward[k] = np.sum(reward_t[i]*self.gamma**i for i in range(len(reward_t)))\n",
        "        #cum_reward[k] = cum_reward[k] + next_value*self.gamma**(len(reward_t))\n",
        "      return np.array(cum_reward)\n",
        "    \n",
        "    \n",
        "    def optimize_model(self, observations, actions, returns):\n",
        "        \"\"\"Perform a gradient update using provided transitions\n",
        "\n",
        "        Parameters\n",
        "        ----------\n",
        "        observations : array\n",
        "            The observations\n",
        "        actions : array\n",
        "            The actions\n",
        "        returns : array\n",
        "            The returns from each state\n",
        "\n",
        "        Returns\n",
        "        -------\n",
        "        loss_value: int\n",
        "            The loss value\n",
        "        \"\"\"\n",
        "        actions = F.one_hot(torch.tensor(actions), self.env.action_space.n)\n",
        "        returns = torch.tensor(returns[:, None], dtype=torch.float)\n",
        "        observations = torch.tensor(observations, dtype=torch.float)\n",
        "\n",
        "        vstar = self.value_network(observations)\n",
        "        v = vstar.clone()\n",
        "        size = returns.size()[0]//vstar.size()[0]\n",
        "        rest = returns.size()[0]%vstar.size()[0]\n",
        "        for j in range(size-1):\n",
        "          v = torch.cat((v, vstar), 0)\n",
        "        v = torch.cat((v, vstar[:rest]), 0)\n",
        "\n",
        "        self.value_network_optimizer.zero_grad()\n",
        "\n",
        "        output = F.mse_loss(returns,v)\n",
        "        output.backward()\n",
        "        self.value_network_optimizer.step()\n",
        "\n",
        "        return output\n",
        "    \n",
        "    def training_batch(self, epochs, batch_size):\n",
        "        \"\"\"Perform a training by batch\n",
        "\n",
        "        Parameters\n",
        "        ----------\n",
        "        epochs : int\n",
        "            Number of epochs\n",
        "        batch_size : int\n",
        "            The size of a batch\n",
        "        \"\"\"\n",
        "        episode_count = 0\n",
        "        actions = np.empty((batch_size,), dtype=np.int)\n",
        "        dones = np.empty((batch_size,), dtype=np.bool)\n",
        "        rewards, values = np.empty((2, batch_size), dtype=np.float)\n",
        "        observations = np.empty((batch_size,) + self.env.observation_space.shape, dtype=np.float)\n",
        "        observation = self.env.reset()\n",
        "        mse_test = []\n",
        "\n",
        "        for epoch in range(epochs):\n",
        "            # Lets collect one batch\n",
        "            for i in range(batch_size):\n",
        "                observations[i] = observation\n",
        "                observation = torch.tensor(observation, dtype=torch.float)\n",
        "                #values[i] =  #TO DO\n",
        "                actions[i] = self.policy.select_action(observation).item()\n",
        "\n",
        "                observation, reward, done, info = self.env.step(actions[i])\n",
        "                observation = torch.tensor(observation, dtype=torch.float)\n",
        "                rewards[i] = reward\n",
        "\n",
        "                # step\n",
        "\n",
        "                if dones[i]:\n",
        "                    observation = self.env.reset()\n",
        "\n",
        "            # If our epiosde didn't end on the last step we need to compute the value for the last state\n",
        "            if dones[-1]:\n",
        "                next_value = 0\n",
        "            else:\n",
        "                next_value = self.value_network(observations)\n",
        "\n",
        "            # Update episode_count\n",
        "            episode_count += sum(dones)\n",
        "\n",
        "            # Compute returns\n",
        "            returns = self._returns_advantages(rewards, dones, next_value)\n",
        "\n",
        "            # Learning step !\n",
        "            self.optimize_model(observations, actions, returns)\n",
        "\n",
        "            # Test it every 50 epochs\n",
        "            if epoch % 25 == 0 or epoch == epochs - 1:\n",
        "                L = []\n",
        "                for _ in range(10):\n",
        "                    obs_states, y_mc = self.evaluate()\n",
        "                    y_hat = self.value_network.predict(torch.tensor(obs_states, dtype=torch.float))\n",
        "                    err = y_mc - y_hat\n",
        "                    mse = np.mean(err**2)\n",
        "                    L.append(mse.item())\n",
        "                mse_test.append(L)\n",
        "                print(f'Epoch {epoch}/{epochs}: MSE: {np.mean(mse)}')\n",
        "\n",
        "                observation = self.env.reset()\n",
        "\n",
        "        # Plotting\n",
        "        r = pd.DataFrame((itertools.chain(*(itertools.product([i], mse_test[i]) for i in range(len(mse_test))))), columns=['Epoch', 'MSE'])\n",
        "        sns.lineplot(x=\"Epoch\", y=\"MSE\", data=r, ci='sd');\n",
        "\n",
        "        print(f'The trainnig was done over a total of {episode_count} episodes')\n",
        "\n",
        "    def evaluate(self, render=False):\n",
        "        \"\"\"Returns the observations and the estimated V-function (using first visit Monte-Carlo)\n",
        "\n",
        "        Parameters\n",
        "        ----------\n",
        "        rewards : array\n",
        "            An array of shape (batch_size,) containing the rewards given by the env\n",
        "        dones : array\n",
        "            An array of shape (batch_size,) containing the done bool indicator given by the env\n",
        "        values : array\n",
        "            An array of shape (batch_size,) containing the values given by the value network\n",
        "        next_value : float\n",
        "            The value of the next state given by the value network\n",
        "\n",
        "        Returns\n",
        "        -------\n",
        "        states : array\n",
        "            Observations\n",
        "        returns : array\n",
        "            The estimate value function of each state\n",
        "        \"\"\"\n",
        "        env = self.monitor_env if render else self.env\n",
        "        observation = env.reset()\n",
        "        states = [observation.copy()]\n",
        "        rewards= []\n",
        "        observation = torch.tensor(observation, dtype=torch.float)\n",
        "        done = False\n",
        "        steps = 0\n",
        "\n",
        "        while not done:\n",
        "            observation = torch.tensor(observation, dtype=torch.float)\n",
        "            action = self.policy.select_action(observation).item()\n",
        "            observation, reward, done, info = env.step(int(action))\n",
        "            for i in range(steps):\n",
        "                rewards[i] = rewards[i] + math.pow(self.gamma, steps-i)*reward\n",
        "            rewards.append(reward)\n",
        "            if not done:\n",
        "                states.append(observation.copy())\n",
        "            observation = torch.tensor(observation, dtype=torch.float)\n",
        "            steps += 1\n",
        "\n",
        "        env.close()\n",
        "        if render:\n",
        "            show_video(\"./gym-results\")\n",
        "            print(f'Reward: {reward_episode}')\n",
        "        states = np.array(states).reshape(-1, self.env.observation_space.shape[0])\n",
        "        returns = np.array(rewards).reshape(-1,1)\n",
        "        return states, returns"
      ],
      "execution_count": 0,
      "outputs": []
    },
    {
      "cell_type": "markdown",
      "metadata": {
        "id": "IY1VIUHLNKn3",
        "colab_type": "text"
      },
      "source": [
        "Define configuration"
      ]
    },
    {
      "cell_type": "code",
      "metadata": {
        "id": "Fvc-7jXDNNkG",
        "colab_type": "code",
        "outputId": "7df7a8ca-0af2-4ee2-b414-ae23815130cc",
        "colab": {
          "base_uri": "https://localhost:8080/",
          "height": 111
        }
      },
      "source": [
        "env_id = 'CartPole-v1'\n",
        "value_learning_rate = 0.001\n",
        "gamma = 0.99\n",
        "seed = 1\n",
        "\n",
        "config_td = {\n",
        "    'env_id': env_id,\n",
        "    'gamma': gamma,\n",
        "    'seed': seed,\n",
        "    'value_network': {'learning_rate': value_learning_rate, 'reference': './CartPole_value.pt'}\n",
        "}\n",
        "\n",
        "print(\"Current config_td is:\")\n",
        "pprint(config_td)\n"
      ],
      "execution_count": 0,
      "outputs": [
        {
          "output_type": "stream",
          "text": [
            "Current config_td is:\n",
            "{'env_id': 'CartPole-v1',\n",
            " 'gamma': 0.99,\n",
            " 'seed': 1,\n",
            " 'value_network': {'learning_rate': 0.001, 'reference': './CartPole_value.pt'}}\n"
          ],
          "name": "stdout"
        }
      ]
    },
    {
      "cell_type": "markdown",
      "metadata": {
        "id": "d2lRnaF3NPyy",
        "colab_type": "text"
      },
      "source": [
        "Create policy"
      ]
    },
    {
      "cell_type": "code",
      "metadata": {
        "id": "NkbHK_lXNShg",
        "colab_type": "code",
        "outputId": "efd3c44b-8a69-4061-fca1-4fe757d940e7",
        "colab": {
          "base_uri": "https://localhost:8080/",
          "height": 36
        }
      },
      "source": [
        "env = gym.make(config_td['env_id'])\n",
        "policy = ActorNetwork(env.observation_space.shape[0], 16, env.action_space.n)\n",
        "policy.load_state_dict(torch.load('./mvarl_hands_on/data/CartPole_actor.pt'))\n",
        "state = torch.tensor(np.array(env.reset(), dtype=np.float32))\n",
        "print(\"pi(state) = \", policy.select_action(state))\n",
        "del env"
      ],
      "execution_count": 0,
      "outputs": [
        {
          "output_type": "stream",
          "text": [
            "pi(state) =  [1]\n"
          ],
          "name": "stdout"
        }
      ]
    },
    {
      "cell_type": "markdown",
      "metadata": {
        "id": "Y51M4EgtNU7Z",
        "colab_type": "text"
      },
      "source": [
        "Run agent"
      ]
    },
    {
      "cell_type": "code",
      "metadata": {
        "id": "4PFvnYLnNGvX",
        "colab_type": "code",
        "outputId": "ef57d009-9f9b-4cb6-e0f4-5ef1329b9371",
        "colab": {
          "base_uri": "https://localhost:8080/",
          "height": 1000
        }
      },
      "source": [
        "agent = EvalAgent(config=config_td, policy=policy)\n",
        "agent.training_batch(epochs=1000, batch_size=256)"
      ],
      "execution_count": 0,
      "outputs": [
        {
          "output_type": "stream",
          "text": [
            "/usr/local/lib/python3.6/dist-packages/ipykernel_launcher.py:149: UserWarning: To copy construct from a tensor, it is recommended to use sourceTensor.clone().detach() or sourceTensor.clone().detach().requires_grad_(True), rather than torch.tensor(sourceTensor).\n",
            "/usr/local/lib/python3.6/dist-packages/ipykernel_launcher.py:48: UserWarning: To copy construct from a tensor, it is recommended to use sourceTensor.clone().detach() or sourceTensor.clone().detach().requires_grad_(True), rather than torch.tensor(sourceTensor).\n",
            "/usr/local/lib/python3.6/dist-packages/ipykernel_launcher.py:227: UserWarning: To copy construct from a tensor, it is recommended to use sourceTensor.clone().detach() or sourceTensor.clone().detach().requires_grad_(True), rather than torch.tensor(sourceTensor).\n"
          ],
          "name": "stderr"
        },
        {
          "output_type": "stream",
          "text": [
            "Epoch 0/1000: MSE: 7039.873233243567\n",
            "Epoch 25/1000: MSE: 6978.797821880336\n",
            "Epoch 50/1000: MSE: 6190.444417731068\n",
            "Epoch 75/1000: MSE: 6829.005713077666\n",
            "Epoch 100/1000: MSE: 6736.166599857273\n",
            "Epoch 125/1000: MSE: 6633.46564850947\n",
            "Epoch 150/1000: MSE: 1210.9073466660532\n",
            "Epoch 175/1000: MSE: 6374.6200942592\n",
            "Epoch 200/1000: MSE: 5737.746450752736\n",
            "Epoch 225/1000: MSE: 3153.897945068654\n",
            "Epoch 250/1000: MSE: 5886.391339930484\n",
            "Epoch 275/1000: MSE: 5711.305221591132\n",
            "Epoch 300/1000: MSE: 5524.012318058802\n",
            "Epoch 325/1000: MSE: 5320.984007865999\n",
            "Epoch 350/1000: MSE: 5095.217595504979\n",
            "Epoch 375/1000: MSE: 4891.207396693561\n",
            "Epoch 400/1000: MSE: 3534.8269275712396\n",
            "Epoch 425/1000: MSE: 4412.106076807212\n",
            "Epoch 450/1000: MSE: 4160.217507516543\n",
            "Epoch 475/1000: MSE: 3919.2479088111977\n",
            "Epoch 500/1000: MSE: 3450.92653554999\n",
            "Epoch 525/1000: MSE: 3385.909150575518\n",
            "Epoch 550/1000: MSE: 3154.0429134951737\n",
            "Epoch 575/1000: MSE: 2709.347351611753\n",
            "Epoch 600/1000: MSE: 2703.6654673119565\n",
            "Epoch 625/1000: MSE: 2455.232776994623\n",
            "Epoch 650/1000: MSE: 2218.584208535779\n",
            "Epoch 675/1000: MSE: 2026.8483544850544\n",
            "Epoch 700/1000: MSE: 1780.5783437461737\n",
            "Epoch 725/1000: MSE: 1619.554009974888\n",
            "Epoch 750/1000: MSE: 1443.4767347049847\n",
            "Epoch 775/1000: MSE: 1264.726515471314\n",
            "Epoch 800/1000: MSE: 1142.1891021707836\n",
            "Epoch 825/1000: MSE: 1010.7342516634334\n",
            "Epoch 850/1000: MSE: 818.46399285906\n",
            "Epoch 875/1000: MSE: 799.2122501371936\n",
            "Epoch 900/1000: MSE: 696.9355758238511\n",
            "Epoch 925/1000: MSE: 679.6595811667452\n",
            "Epoch 950/1000: MSE: 644.016083268858\n",
            "Epoch 975/1000: MSE: 627.6666283826717\n",
            "Epoch 999/1000: MSE: 613.9543026242856\n",
            "The trainnig was done over a total of 248000 episodes\n"
          ],
          "name": "stdout"
        },
        {
          "output_type": "display_data",
          "data": {
            "image/png": "[encoded data removed]",
            "text/plain": [
              "<Figure size 432x288 with 1 Axes>"
            ]
          },
          "metadata": {
            "tags": []
          }
        }
      ]
    },
    {
      "cell_type": "markdown",
      "metadata": {
        "id": "03as0wkuja2A",
        "colab_type": "text"
      },
      "source": [
        "## Advantage Actor Critic (A2C)\n",
        "**Q3: Implement the A2C method**\n",
        "\n",
        "As usual we provide a structure you can use as starting point.\n",
        "\n",
        "\n",
        "\n",
        "**Note:** try to reuse previous parts of previous code.\n",
        "\n"
      ]
    },
    {
      "cell_type": "markdown",
      "metadata": {
        "id": "8sEwrInsjkDH",
        "colab_type": "text"
      },
      "source": [
        "Create configuration for A2C"
      ]
    },
    {
      "cell_type": "code",
      "metadata": {
        "id": "G4EmYpAsjhKh",
        "colab_type": "code",
        "colab": {}
      },
      "source": [
        "class A2CAgent:\n",
        "\n",
        "    def __init__(self, config):\n",
        "        self.config = config\n",
        "        self.env = gym.make(config['env_id'])\n",
        "        make_seed(config['seed'])\n",
        "        self.env.seed(config['seed'])\n",
        "        self.monitor_env = Monitor(self.env, \"./gym-results\", force=True, video_callable=lambda episode: True)\n",
        "        self.gamma = config['gamma']\n",
        "        \n",
        "        # Our two networks\n",
        "        self.value_network = ValueNetwork(self.env.observation_space.shape[0], 16, 1)\n",
        "        self.actor_network = ActorNetwork(self.env.observation_space.shape[0], 16, self.env.action_space.n)\n",
        "        \n",
        "        # Their optimizers\n",
        "        self.value_network_optimizer = optim.RMSprop(self.value_network.parameters(), lr=config['value_network']['learning_rate'])\n",
        "        self.actor_network_optimizer = optim.RMSprop(self.actor_network.parameters(), lr=config['actor_network']['learning_rate'])\n",
        "        \n",
        "    # Hint: use it during training_batch\n",
        "    def _returns_advantages(self, rewards, dones, values, next_value):\n",
        "      returns = np.zeros(len(rewards))\n",
        "      val = next_value\n",
        "      for i in range(1, len(rewards)+1):\n",
        "          last = 1-dones[-i]  \n",
        "          val = rewards[-i] + self.gamma * last * val\n",
        "          returns[-i] = val\n",
        "      advantages = returns - values\n",
        "      return returns, advantages\n",
        "\n",
        "    def training_batch(self, epochs, batch_size):\n",
        "      \"\"\"Perform a training by batch\n",
        "\n",
        "        Parameters\n",
        "        ----------\n",
        "        epochs : int\n",
        "            Number of epochs\n",
        "        batch_size : int\n",
        "            The size of a batch\n",
        "      \"\"\"\n",
        "      episode_count = 0\n",
        "      actions = np.empty((batch_size,), dtype=np.int)\n",
        "      dones = np.empty((batch_size,), dtype=np.bool)\n",
        "      rewards, values = np.empty((2, batch_size), dtype=np.float)\n",
        "      observations = np.empty((batch_size,) + self.env.observation_space.shape, dtype=np.float)\n",
        "      observation = self.env.reset()\n",
        "      rewards_test = []\n",
        "\n",
        "      for epoch in range(epochs):\n",
        "          # Lets collect one batch\n",
        "          for i in range(batch_size):\n",
        "            observations[i] = observation\n",
        "            observation = torch.tensor(observation, dtype=torch.float)\n",
        "            values[i] = self.value_network(torch.tensor(observation, dtype=torch.float))\n",
        "            #values[i] =  self.value_network(observations)\n",
        "            actions[i] =  int(self.actor_network.select_action(observation))\n",
        "            #actions[i] = self.policy.select_action(observation).item()\n",
        "\n",
        "            observation, reward, done, info = self.env.step(actions[i])\n",
        "            observation = torch.tensor(observation, dtype=torch.float)\n",
        "            rewards[i] = reward\n",
        "            dones[i] = done\n",
        "            if dones[i]:\n",
        "              observation = self.env.reset()\n",
        "            # If our epiosde didn't end on the last step we need to compute the value for the last state\n",
        "          if dones[-1]:\n",
        "            next_value = 0\n",
        "          else:\n",
        "            #next_value = self.value_network(observation)\n",
        "            obs = torch.from_numpy(observations[len(observations)-1]).float()\n",
        "            next_value = self.value_network.predict(obs)\n",
        "\n",
        "            # Compute returns and advantages \n",
        "          returns, advantages = self._returns_advantages(rewards, dones, values, next_value)\n",
        "            \n",
        "            # Update episode_count\n",
        "          episode_count += sum(dones)\n",
        "\n",
        "\n",
        "            # Learning step !\n",
        "          self.optimize_model(observations, actions, returns, dones, advantages)\n",
        "\n",
        "            # Test it every 50 epochs\n",
        "          if epoch % 50 == 0 or epoch == epochs - 1:\n",
        "            rewards_test.append(np.array([self.evaluate() for _ in range(50)]))\n",
        "            print(f'Epoch {epoch}/{epochs}: Mean rewards: {round(rewards_test[-1].mean(), 2)}, Std: {round(rewards_test[-1].std(), 2)}')\n",
        "\n",
        "            # Early stopping\n",
        "            if rewards_test[-1].mean() > 490 and epoch != epochs -1:\n",
        "                print('Early stopping !')\n",
        "                break\n",
        "            observation = self.env.reset()\n",
        "                    \n",
        "      # Plotting\n",
        "      r = pd.DataFrame((itertools.chain(*(itertools.product([i], rewards_test[i]) for i in range(len(rewards_test))))), columns=['Epoch', 'Reward'])\n",
        "      sns.lineplot(x=\"Epoch\", y=\"Reward\", data=r, ci='sd');\n",
        "        \n",
        "      print(f'The trainnig was done over a total of {episode_count} episodes')\n",
        "\n",
        "    def optimize_model(self, observations, actions, returns, dones, advantages):\n",
        "        n_t = np.sum(dones)\n",
        "        init_act = actions\n",
        "        actions      = F.one_hot(torch.from_numpy(actions), self.env.action_space.n)\n",
        "        returns      = torch.from_numpy(returns[:, None]).float()\n",
        "        advantages   = torch.from_numpy(advantages).float()\n",
        "        observations = torch.from_numpy(observations).float()  \n",
        "        \n",
        "        # Critic loss\n",
        "        pred_values = self.value_network(observations)\n",
        "\n",
        "        \n",
        "        critic_loss = -torch.mean(advantages * pred_values)  \n",
        "        critic_loss.backward()\n",
        "        \n",
        "        self.value_network_optimizer.step()\n",
        "        \n",
        "        # Actor & Entropy loss\n",
        "        proba = self.actor_network(observations) \n",
        "        loss = 0\n",
        "        for i in range(len(observations)):\n",
        "            loss += torch.log(proba[i, init_act[i]])*advantages[i]\n",
        "        \n",
        "        loss = -loss\n",
        "        entropy= 0.001 * torch.sum(torch.log(proba)*proba)\n",
        "        loss = loss + entropy\n",
        "\n",
        "        if not dones[-1]:\n",
        "          n_t += 1\n",
        "        loss = loss / n_t\n",
        "        \n",
        "        loss.backward()\n",
        "        \n",
        "        self.actor_network_optimizer.step()\n",
        "        \n",
        "        self.value_network_optimizer.zero_grad()\n",
        "        self.actor_network_optimizer.zero_grad()\n",
        "\n",
        "        \n",
        "        return loss.detach().numpy()\n",
        "\n",
        "\n",
        "    def evaluate(self, render=False):\n",
        "        env = self.monitor_env if render else self.env\n",
        "        observation = env.reset()\n",
        "        observation = torch.tensor(observation, dtype=torch.float)\n",
        "        reward_episode = 0\n",
        "        done = False\n",
        "\n",
        "        while not done:\n",
        "            policy = self.actor_network(observation)\n",
        "            action = torch.multinomial(policy, 1)\n",
        "            observation, reward, done, info = env.step(int(action))\n",
        "            observation = torch.tensor(observation, dtype=torch.float)\n",
        "            reward_episode += reward\n",
        "            \n",
        "        env.close()\n",
        "        if render:\n",
        "            show_video(\"./gym-results\")\n",
        "            print(f'Reward: {reward_episode}')\n",
        "        return reward_episode"
      ],
      "execution_count": 0,
      "outputs": []
    },
    {
      "cell_type": "code",
      "metadata": {
        "id": "OwDDx78wjmG5",
        "colab_type": "code",
        "outputId": "f83b3fc6-1749-47d2-d242-d45c8d5d1c1d",
        "colab": {
          "base_uri": "https://localhost:8080/",
          "height": 75
        }
      },
      "source": [
        "env_id = 'CartPole-v1'\n",
        "value_learning_rate = 0.001\n",
        "actor_learning_rate = 0.001\n",
        "gamma = 0.99\n",
        "entropy = 1\n",
        "seed = 1\n",
        "\n",
        "config_a2c = {\n",
        "    'env_id': env_id,\n",
        "    'gamma': gamma,\n",
        "    'seed': seed,\n",
        "    'value_network': {'learning_rate': value_learning_rate},\n",
        "    'actor_network': {'learning_rate': actor_learning_rate},\n",
        "    'entropy': entropy\n",
        "}\n",
        "\n",
        "print(\"Current config_a2c is:\")\n",
        "print(config_a2c)"
      ],
      "execution_count": 0,
      "outputs": [
        {
          "output_type": "stream",
          "text": [
            "Current config_a2c is:\n",
            "{'env_id': 'CartPole-v1', 'gamma': 0.99, 'seed': 1, 'value_network': {'learning_rate': 0.001}, 'actor_network': {'learning_rate': 0.001}, 'entropy': 1}\n"
          ],
          "name": "stdout"
        }
      ]
    },
    {
      "cell_type": "markdown",
      "metadata": {
        "id": "6xW7fe-8jvzY",
        "colab_type": "text"
      },
      "source": [
        "Run the learning agent"
      ]
    },
    {
      "cell_type": "code",
      "metadata": {
        "id": "UrZRJ7-yjryp",
        "colab_type": "code",
        "outputId": "734a1970-b44b-4d37-8205-7043e8f1a0fd",
        "colab": {
          "base_uri": "https://localhost:8080/",
          "height": 749
        }
      },
      "source": [
        "agent = A2CAgent(config_a2c)\n",
        "rewards = agent.training_batch(1000, 256)"
      ],
      "execution_count": 0,
      "outputs": [
        {
          "output_type": "stream",
          "text": [
            "/usr/local/lib/python3.6/dist-packages/ipykernel_launcher.py:53: UserWarning: To copy construct from a tensor, it is recommended to use sourceTensor.clone().detach() or sourceTensor.clone().detach().requires_grad_(True), rather than torch.tensor(sourceTensor).\n",
            "/usr/local/lib/python3.6/dist-packages/ipykernel_launcher.py:52: UserWarning: To copy construct from a tensor, it is recommended to use sourceTensor.clone().detach() or sourceTensor.clone().detach().requires_grad_(True), rather than torch.tensor(sourceTensor).\n"
          ],
          "name": "stderr"
        },
        {
          "output_type": "stream",
          "text": [
            "Epoch 0/1000: Mean rewards: 24.86, Std: 16.4\n",
            "Epoch 50/1000: Mean rewards: 38.04, Std: 21.04\n",
            "Epoch 100/1000: Mean rewards: 60.54, Std: 31.87\n",
            "Epoch 150/1000: Mean rewards: 132.44, Std: 66.05\n",
            "Epoch 200/1000: Mean rewards: 171.58, Std: 96.35\n",
            "Epoch 250/1000: Mean rewards: 224.58, Std: 96.32\n",
            "Epoch 300/1000: Mean rewards: 251.52, Std: 105.28\n",
            "Epoch 350/1000: Mean rewards: 277.5, Std: 103.37\n",
            "Epoch 400/1000: Mean rewards: 347.22, Std: 132.68\n",
            "Epoch 450/1000: Mean rewards: 305.56, Std: 113.04\n",
            "Epoch 500/1000: Mean rewards: 410.74, Std: 110.56\n",
            "Epoch 550/1000: Mean rewards: 438.0, Std: 106.37\n",
            "Epoch 600/1000: Mean rewards: 410.12, Std: 94.39\n",
            "Epoch 650/1000: Mean rewards: 467.04, Std: 66.39\n",
            "Epoch 700/1000: Mean rewards: 432.78, Std: 95.81\n",
            "Epoch 750/1000: Mean rewards: 457.14, Std: 93.87\n",
            "Epoch 800/1000: Mean rewards: 473.5, Std: 69.68\n",
            "Epoch 850/1000: Mean rewards: 466.26, Std: 80.43\n",
            "Epoch 900/1000: Mean rewards: 474.94, Std: 71.63\n",
            "Epoch 950/1000: Mean rewards: 429.84, Std: 111.04\n",
            "Epoch 999/1000: Mean rewards: 487.28, Std: 42.78\n",
            "The trainnig was done over a total of 1559 episodes\n"
          ],
          "name": "stdout"
        },
        {
          "output_type": "display_data",
          "data": {
            "image/png": "[encoded data removed]",
            "text/plain": [
              "<Figure size 432x288 with 1 Axes>"
            ]
          },
          "metadata": {
            "tags": []
          }
        }
      ]
    },
    {
      "cell_type": "markdown",
      "metadata": {
        "id": "NzuNtPqTju64",
        "colab_type": "text"
      },
      "source": [
        "Evaluate the agent over multiple episodes"
      ]
    },
    {
      "cell_type": "code",
      "metadata": {
        "id": "bw279M4Jj1y-",
        "colab_type": "code",
        "outputId": "b75dd988-d622-40aa-b1cc-f4ed12e1456a",
        "colab": {
          "base_uri": "https://localhost:8080/",
          "height": 36
        }
      },
      "source": [
        "agent.evaluate()"
      ],
      "execution_count": 0,
      "outputs": [
        {
          "output_type": "execute_result",
          "data": {
            "text/plain": [
              "500.0"
            ]
          },
          "metadata": {
            "tags": []
          },
          "execution_count": 38
        }
      ]
    }
  ]
}
